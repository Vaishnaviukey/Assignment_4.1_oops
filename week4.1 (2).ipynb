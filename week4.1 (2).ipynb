{
 "cells": [
  {
   "cell_type": "markdown",
   "id": "f5274a13-bcaf-4010-8633-e704d6e96ac7",
   "metadata": {},
   "source": [
    "## Q1. Explain Class and Object with respect to Object-Oriented Programming. Give a suitable example."
   ]
  },
  {
   "cell_type": "code",
   "execution_count": 20,
   "id": "20b10bfe-0ae0-4b1b-a893-d3551d808214",
   "metadata": {},
   "outputs": [],
   "source": [
    "class test(): # class \" test()\"\n",
    "    def __init__(self, name):\n",
    "        self.name = name"
   ]
  },
  {
   "cell_type": "code",
   "execution_count": 21,
   "id": "6bb5fbd2-8e2a-4cdc-aa23-a6c8998e71dc",
   "metadata": {},
   "outputs": [],
   "source": [
    "t = test(\"vaish\") #object \"t\""
   ]
  },
  {
   "cell_type": "code",
   "execution_count": 19,
   "id": "358b742d-33f2-410b-be4b-674f6c81c7ec",
   "metadata": {},
   "outputs": [
    {
     "data": {
      "text/plain": [
       "'vaish'"
      ]
     },
     "execution_count": 19,
     "metadata": {},
     "output_type": "execute_result"
    }
   ],
   "source": [
    "t.name"
   ]
  },
  {
   "cell_type": "raw",
   "id": "f5364361-0c91-4509-abd4-b2330e22dfe6",
   "metadata": {},
   "source": [
    "Class - it is used as a template for declaring and \n",
    "creating the objects.   \n",
    "object - An object is an instance of a class"
   ]
  },
  {
   "cell_type": "markdown",
   "id": "0ea2388e-5c2a-4ec0-bd8b-29325d5d4675",
   "metadata": {},
   "source": [
    "## Q2. Name the four pillars of OOPs."
   ]
  },
  {
   "cell_type": "raw",
   "id": "3487465a-1295-4be8-96d6-226b3a42c0f6",
   "metadata": {},
   "source": [
    "1. Abstraction\n",
    "2. Encapsulation\n",
    "3. Inheritance\n",
    "4. Polymorphism"
   ]
  },
  {
   "cell_type": "markdown",
   "id": "5bb77ba2-576b-4996-8316-84df17d48252",
   "metadata": {},
   "source": [
    "## Q3. Explain why the __init__() function is used. Give a suitable example."
   ]
  },
  {
   "cell_type": "markdown",
   "id": "8b61b209-dac1-4f3d-9fc7-85e29d9cca67",
   "metadata": {},
   "source": [
    " * __init__ is a Constructor. Constructors are used to initializing the object’s state.\n",
    " \n",
    "* The task of constructors is to initialize(assign values) to the data members of the class when an object of the class is created. \n",
    "\n",
    "* Like methods, a constructor also contains a collection of statements(i.e. instructions) that are executed at the time of Object creation. \n",
    "\n",
    "* It is run as soon as an object of a class is instantiated. \n",
    "\n",
    "* The method is useful to do any initialization you want to do with your object."
   ]
  },
  {
   "cell_type": "code",
   "execution_count": 29,
   "id": "2dceab9f-1008-4f1d-a886-4d00457452ab",
   "metadata": {},
   "outputs": [],
   "source": [
    "class teacher:\n",
    "    def __init__(self , cource_name):\n",
    "        self.cource_name  = cource_name\n",
    "    def cource(self):\n",
    "        return(\"Cource name is : \",self.cource_name)"
   ]
  },
  {
   "cell_type": "code",
   "execution_count": 34,
   "id": "0f23338c-7c84-4f33-b552-e3e517ebdedf",
   "metadata": {},
   "outputs": [],
   "source": [
    "teach = teacher(\"Maths\")"
   ]
  },
  {
   "cell_type": "code",
   "execution_count": 37,
   "id": "c112a8d8-8f99-4170-a12f-5c9efb0623ea",
   "metadata": {},
   "outputs": [
    {
     "data": {
      "text/plain": [
       "('Cource name is : ', 'Maths')"
      ]
     },
     "execution_count": 37,
     "metadata": {},
     "output_type": "execute_result"
    }
   ],
   "source": [
    "teach.cource()"
   ]
  },
  {
   "cell_type": "markdown",
   "id": "1e70ec16-97f1-427c-9d9b-931932444e84",
   "metadata": {},
   "source": [
    "## Q4. Why self is used in OOPs?"
   ]
  },
  {
   "cell_type": "markdown",
   "id": "b2646a31-48bc-414c-a4dd-a1c05252b31e",
   "metadata": {},
   "source": [
    "* When working with classes in Python, the term “self” refers to the instance of the class that is currently being used.\n",
    "\n",
    "* It is customary to use “self” as the first parameter in instance methods of a class.\n",
    "\n",
    "* Whenever you call a method of an object created from a class, the object is automatically passed as the first argument using the “self” parameter.\n",
    "\n",
    "* This enables you to modify the object’s properties and execute tasks unique to that particular instance.\n",
    "\n",
    "* ‘ self ‘ is not a keyword in Python. Self is just a parameter name used in instance methods to refer to the instance itself.\n",
    "\n",
    "* The self is always pointing to the Current Object. When you create an instance of a class, you’re essentially creating an object with its own set of attributes and methods."
   ]
  },
  {
   "cell_type": "markdown",
   "id": "fd5e85e2-c8ee-4a7b-aaf1-eea107ba72d5",
   "metadata": {},
   "source": [
    "## Q5. What is inheritance? Give an example for each type of inheritance."
   ]
  },
  {
   "cell_type": "raw",
   "id": "e3680f56-03f3-4a72-8aa7-4f95c06ee097",
   "metadata": {},
   "source": [
    "Types of Inheritance depend upon the number of child and parent classes involved. There are four types of inheritance in Python:\n",
    "        * Single IInheritance\n",
    "        * Multiple Inheritance\n",
    "        * Multilevel Inheritance\n",
    "        * Hierarchical Inheritance"
   ]
  },
  {
   "cell_type": "code",
   "execution_count": 49,
   "id": "c39e1cd3-b7b7-4144-8555-3ad3cc868cb5",
   "metadata": {},
   "outputs": [],
   "source": [
    "class parent:\n",
    "    def function1(self):\n",
    "        print(\"Function 1\")\n",
    "    \n",
    "class child1(parent):\n",
    "    def function2(self):\n",
    "        print(\"Function 2\")\n",
    "        \n",
    "class child2(child1):\n",
    "    def function3(self):\n",
    "        print(\"Function 3\")"
   ]
  },
  {
   "cell_type": "code",
   "execution_count": 50,
   "id": "bdff3495-edc2-4659-9d0d-c3215694b12d",
   "metadata": {},
   "outputs": [],
   "source": [
    "obj = child2()"
   ]
  },
  {
   "cell_type": "code",
   "execution_count": 51,
   "id": "b016fd82-baba-4e9c-a7a5-42c4708af1d1",
   "metadata": {},
   "outputs": [
    {
     "name": "stdout",
     "output_type": "stream",
     "text": [
      "Function 1\n"
     ]
    }
   ],
   "source": [
    "obj.function1()"
   ]
  },
  {
   "cell_type": "code",
   "execution_count": 52,
   "id": "da2b49a0-06b2-4dd5-95d1-0b6138d5ec60",
   "metadata": {},
   "outputs": [
    {
     "name": "stdout",
     "output_type": "stream",
     "text": [
      "Function 3\n"
     ]
    }
   ],
   "source": [
    "obj.function3()"
   ]
  },
  {
   "cell_type": "code",
   "execution_count": 53,
   "id": "836b12fa-e340-4cd4-a4bb-86a19238bd89",
   "metadata": {},
   "outputs": [
    {
     "name": "stdout",
     "output_type": "stream",
     "text": [
      "Function 2\n"
     ]
    }
   ],
   "source": [
    "obj.function2()"
   ]
  },
  {
   "cell_type": "code",
   "execution_count": null,
   "id": "b8d77c1c-edb1-456b-bba9-5316da5dbbb9",
   "metadata": {},
   "outputs": [],
   "source": []
  }
 ],
 "metadata": {
  "kernelspec": {
   "display_name": "Python 3 (ipykernel)",
   "language": "python",
   "name": "python3"
  },
  "language_info": {
   "codemirror_mode": {
    "name": "ipython",
    "version": 3
   },
   "file_extension": ".py",
   "mimetype": "text/x-python",
   "name": "python",
   "nbconvert_exporter": "python",
   "pygments_lexer": "ipython3",
   "version": "3.10.8"
  }
 },
 "nbformat": 4,
 "nbformat_minor": 5
}
